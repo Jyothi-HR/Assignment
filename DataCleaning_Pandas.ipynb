{
 "cells": [
  {
   "cell_type": "code",
   "execution_count": 1,
   "metadata": {},
   "outputs": [
    {
     "name": "stdout",
     "output_type": "stream",
     "text": [
      "            From_To  FlightNumber  RecentDelays              Airline\n",
      "0      LoNDon_paris       10045.0      [23, 47]               KLM(!)\n",
      "1      MAdrid_miLAN           NaN            []    <Air France> (12)\n",
      "2  londON_StockhOlm       10065.0  [24, 43, 87]  (British Airways. )\n",
      "3    Budapest_PaRis           NaN          [13]       12. Air France\n",
      "4   Brussels_londOn       10085.0      [67, 32]          \"Swiss Air\"\n",
      "            From_To  FlightNumber  RecentDelays              Airline\n",
      "1      LoNDon_paris       10045.0      [23, 47]               KLM(!)\n",
      "2      MAdrid_miLAN       10055.0            []    <Air France> (12)\n",
      "3  londON_StockhOlm       10065.0  [24, 43, 87]  (British Airways. )\n",
      "4    Budapest_PaRis       10075.0          [13]       12. Air France\n",
      "5   Brussels_londOn       10085.0      [67, 32]          \"Swiss Air\"\n"
     ]
    },
    {
     "data": {
      "text/plain": [
       "1    10045\n",
       "2    10055\n",
       "3    10065\n",
       "4    10075\n",
       "5    10085\n",
       "Name: FlightNumber, dtype: int32"
      ]
     },
     "execution_count": 1,
     "metadata": {},
     "output_type": "execute_result"
    }
   ],
   "source": [
    "import pandas as pd\n",
    "import numpy as np\n",
    "\n",
    "\"\"\"It happens all the time: someone gives you data containing malformed strings,\n",
    "Python, lists and missing data. How do you tidy it up so you can get on with the\n",
    "analysis?\n",
    "Take this monstrosity as the DataFrame to use in the following puzzles:\n",
    "df = pd.DataFrame({'From_To': ['LoNDon_paris', 'MAdrid_miLAN',\n",
    "'londON_StockhOlm',\n",
    "'Budapest_PaRis', 'Brussels_londOn'],\n",
    "'FlightNumber': [10045, np.nan, 10065, np.nan, 10085],\n",
    "'RecentDelays': [[23, 47], [], [24, 43, 87], [13], [67, 32]],\n",
    "'Airline': ['KLM(!)', '<Air France> (12)', '(British Airways. )',\n",
    "'12. Air France', '\"Swiss Air\"']})\n",
    "\"\"\"\n",
    "\"\"\"#1. Some values in the the FlightNumber column are missing. These numbers are\n",
    "meant to increase by 10 with each row so 10055 and 10075 need to be put in\n",
    "place. Fill in these missing numbers and make the column an integer column\n",
    "(instead of a float column).\"\"\"\n",
    "\n",
    "df= pd.DataFrame({'From_To': ['LoNDon_paris', 'MAdrid_miLAN','londON_StockhOlm','Budapest_PaRis', 'Brussels_londOn'],\n",
    "                                'FlightNumber': [10045, np.nan, 10065, np.nan, 10085],\n",
    "                                'RecentDelays': [[23, 47], [], [24, 43, 87], [13], [67, 32]],\n",
    "                                'Airline': ['KLM(!)', '<Air France> (12)', '(British Airways. )',\n",
    "                                            '12. Air France', '\"Swiss Air\"']})\n",
    "print(df)\n",
    "#Settingup index value for Flighnumber increase by 10\n",
    "SetIndex1=np.arange(1,df.From_To.count()+1)\n",
    "\n",
    "df.set_index(SetIndex1,inplace=True)\n",
    "for i in np.arange(1,df.From_To.count()+1):\n",
    "    if pd.isnull(df.FlightNumber.loc[i]):\n",
    "        df.loc[i,'FlightNumber']=df.FlightNumber.loc[i-1]+10\n",
    "print(df)\n",
    "df['FlightNumber'].astype(int)\n",
    "\n"
   ]
  },
  {
   "cell_type": "code",
   "execution_count": 2,
   "metadata": {},
   "outputs": [
    {
     "name": "stdout",
     "output_type": "stream",
     "text": [
      "1        LoNDon_paris\n",
      "2        MAdrid_miLAN\n",
      "3    londON_StockhOlm\n",
      "4      Budapest_PaRis\n",
      "5     Brussels_londOn\n",
      "Name: From_To, dtype: object\n",
      "--------------------------\n",
      "            From_To  FlightNumber  RecentDelays              Airline  \\\n",
      "1      LoNDon_paris       10045.0      [23, 47]               KLM(!)   \n",
      "2      MAdrid_miLAN       10055.0            []    <Air France> (12)   \n",
      "3  londON_StockhOlm       10065.0  [24, 43, 87]  (British Airways. )   \n",
      "4    Budapest_PaRis       10075.0          [13]       12. Air France   \n",
      "5   Brussels_londOn       10085.0      [67, 32]          \"Swiss Air\"   \n",
      "\n",
      "       From         To  \n",
      "1    LoNDon      paris  \n",
      "2    MAdrid      miLAN  \n",
      "3    londON  StockhOlm  \n",
      "4  Budapest      PaRis  \n",
      "5  Brussels     londOn  \n"
     ]
    }
   ],
   "source": [
    "\n",
    "'''2. The From_To column would be better as two separate columns! Split each\n",
    "string on the underscore delimiter _ to give a new temporary DataFrame with\n",
    "the correct values. Assign the correct column names to this temporary\n",
    "DataFrame.'''\n",
    "print(df['From_To'])\n",
    "print('--------------------------')\n",
    "Temp_df2=df.copy()\n",
    "\n",
    "Temp_df2[['From','To']]=Temp_df2.From_To.str.split(\"_\", expand=True)\n",
    "#temprory DataDrame\n",
    "print(Temp_df2)\n",
    "\n"
   ]
  },
  {
   "cell_type": "code",
   "execution_count": 3,
   "metadata": {},
   "outputs": [
    {
     "name": "stdout",
     "output_type": "stream",
     "text": [
      "            From_To  FlightNumber  RecentDelays              Airline  \\\n",
      "1      London_paris       10045.0      [23, 47]               KLM(!)   \n",
      "2      Madrid_milan       10055.0            []    <Air France> (12)   \n",
      "3  London_stockholm       10065.0  [24, 43, 87]  (British Airways. )   \n",
      "4    Budapest_paris       10075.0          [13]       12. Air France   \n",
      "5   Brussels_london       10085.0      [67, 32]          \"Swiss Air\"   \n",
      "\n",
      "       From         To  \n",
      "1    London      Paris  \n",
      "2    Madrid      Milan  \n",
      "3    London  Stockholm  \n",
      "4  Budapest      Paris  \n",
      "5  Brussels     London  \n"
     ]
    }
   ],
   "source": [
    "'''3. Notice how the capitalisation of the city names is all mixed up in this\n",
    "temporary DataFrame. Standardise the strings so that only the first letter is\n",
    "uppercase (e.g. \"londON\" should become \"London\".)'''\n",
    "\n",
    "Temp_df2.From=Temp_df2.From.str.capitalize()\n",
    "Temp_df2.To=Temp_df2.To.str.capitalize()\n",
    "Temp_df2.From_To=Temp_df2.From_To.str.capitalize()\n",
    "\n",
    "print(Temp_df2)\n"
   ]
  },
  {
   "cell_type": "code",
   "execution_count": 4,
   "metadata": {},
   "outputs": [
    {
     "data": {
      "text/html": [
       "<div>\n",
       "<style scoped>\n",
       "    .dataframe tbody tr th:only-of-type {\n",
       "        vertical-align: middle;\n",
       "    }\n",
       "\n",
       "    .dataframe tbody tr th {\n",
       "        vertical-align: top;\n",
       "    }\n",
       "\n",
       "    .dataframe thead th {\n",
       "        text-align: right;\n",
       "    }\n",
       "</style>\n",
       "<table border=\"1\" class=\"dataframe\">\n",
       "  <thead>\n",
       "    <tr style=\"text-align: right;\">\n",
       "      <th></th>\n",
       "      <th>From_To</th>\n",
       "      <th>FlightNumber</th>\n",
       "      <th>RecentDelays</th>\n",
       "      <th>Airline</th>\n",
       "    </tr>\n",
       "  </thead>\n",
       "  <tbody>\n",
       "    <tr>\n",
       "      <th>1</th>\n",
       "      <td>LoNDon_paris</td>\n",
       "      <td>10045.0</td>\n",
       "      <td>[23, 47]</td>\n",
       "      <td>KLM(!)</td>\n",
       "    </tr>\n",
       "    <tr>\n",
       "      <th>2</th>\n",
       "      <td>MAdrid_miLAN</td>\n",
       "      <td>10055.0</td>\n",
       "      <td>[]</td>\n",
       "      <td>&lt;Air France&gt; (12)</td>\n",
       "    </tr>\n",
       "    <tr>\n",
       "      <th>3</th>\n",
       "      <td>londON_StockhOlm</td>\n",
       "      <td>10065.0</td>\n",
       "      <td>[24, 43, 87]</td>\n",
       "      <td>(British Airways. )</td>\n",
       "    </tr>\n",
       "    <tr>\n",
       "      <th>4</th>\n",
       "      <td>Budapest_PaRis</td>\n",
       "      <td>10075.0</td>\n",
       "      <td>[13]</td>\n",
       "      <td>12. Air France</td>\n",
       "    </tr>\n",
       "    <tr>\n",
       "      <th>5</th>\n",
       "      <td>Brussels_londOn</td>\n",
       "      <td>10085.0</td>\n",
       "      <td>[67, 32]</td>\n",
       "      <td>\"Swiss Air\"</td>\n",
       "    </tr>\n",
       "  </tbody>\n",
       "</table>\n",
       "</div>"
      ],
      "text/plain": [
       "            From_To  FlightNumber  RecentDelays              Airline\n",
       "1      LoNDon_paris       10045.0      [23, 47]               KLM(!)\n",
       "2      MAdrid_miLAN       10055.0            []    <Air France> (12)\n",
       "3  londON_StockhOlm       10065.0  [24, 43, 87]  (British Airways. )\n",
       "4    Budapest_PaRis       10075.0          [13]       12. Air France\n",
       "5   Brussels_londOn       10085.0      [67, 32]          \"Swiss Air\""
      ]
     },
     "execution_count": 4,
     "metadata": {},
     "output_type": "execute_result"
    }
   ],
   "source": [
    "'''4. Delete the From_To column from df and attach the temporary DataFrame\n",
    "from the previous questions.'''\n",
    "df"
   ]
  },
  {
   "cell_type": "code",
   "execution_count": 5,
   "metadata": {},
   "outputs": [
    {
     "data": {
      "text/html": [
       "<div>\n",
       "<style scoped>\n",
       "    .dataframe tbody tr th:only-of-type {\n",
       "        vertical-align: middle;\n",
       "    }\n",
       "\n",
       "    .dataframe tbody tr th {\n",
       "        vertical-align: top;\n",
       "    }\n",
       "\n",
       "    .dataframe thead th {\n",
       "        text-align: right;\n",
       "    }\n",
       "</style>\n",
       "<table border=\"1\" class=\"dataframe\">\n",
       "  <thead>\n",
       "    <tr style=\"text-align: right;\">\n",
       "      <th></th>\n",
       "      <th>FlightNumber</th>\n",
       "      <th>RecentDelays</th>\n",
       "      <th>Airline</th>\n",
       "    </tr>\n",
       "  </thead>\n",
       "  <tbody>\n",
       "    <tr>\n",
       "      <th>1</th>\n",
       "      <td>10045.0</td>\n",
       "      <td>[23, 47]</td>\n",
       "      <td>KLM(!)</td>\n",
       "    </tr>\n",
       "    <tr>\n",
       "      <th>2</th>\n",
       "      <td>10055.0</td>\n",
       "      <td>[]</td>\n",
       "      <td>&lt;Air France&gt; (12)</td>\n",
       "    </tr>\n",
       "    <tr>\n",
       "      <th>3</th>\n",
       "      <td>10065.0</td>\n",
       "      <td>[24, 43, 87]</td>\n",
       "      <td>(British Airways. )</td>\n",
       "    </tr>\n",
       "    <tr>\n",
       "      <th>4</th>\n",
       "      <td>10075.0</td>\n",
       "      <td>[13]</td>\n",
       "      <td>12. Air France</td>\n",
       "    </tr>\n",
       "    <tr>\n",
       "      <th>5</th>\n",
       "      <td>10085.0</td>\n",
       "      <td>[67, 32]</td>\n",
       "      <td>\"Swiss Air\"</td>\n",
       "    </tr>\n",
       "  </tbody>\n",
       "</table>\n",
       "</div>"
      ],
      "text/plain": [
       "   FlightNumber  RecentDelays              Airline\n",
       "1       10045.0      [23, 47]               KLM(!)\n",
       "2       10055.0            []    <Air France> (12)\n",
       "3       10065.0  [24, 43, 87]  (British Airways. )\n",
       "4       10075.0          [13]       12. Air France\n",
       "5       10085.0      [67, 32]          \"Swiss Air\""
      ]
     },
     "execution_count": 5,
     "metadata": {},
     "output_type": "execute_result"
    }
   ],
   "source": [
    "#deleteing permanently FromTo Col\n",
    "df.drop(['From_To'],axis=1,inplace=True)\n",
    "df"
   ]
  },
  {
   "cell_type": "code",
   "execution_count": 6,
   "metadata": {},
   "outputs": [
    {
     "data": {
      "text/html": [
       "<div>\n",
       "<style scoped>\n",
       "    .dataframe tbody tr th:only-of-type {\n",
       "        vertical-align: middle;\n",
       "    }\n",
       "\n",
       "    .dataframe tbody tr th {\n",
       "        vertical-align: top;\n",
       "    }\n",
       "\n",
       "    .dataframe thead th {\n",
       "        text-align: right;\n",
       "    }\n",
       "</style>\n",
       "<table border=\"1\" class=\"dataframe\">\n",
       "  <thead>\n",
       "    <tr style=\"text-align: right;\">\n",
       "      <th></th>\n",
       "      <th>FlightNumber</th>\n",
       "      <th>RecentDelays</th>\n",
       "      <th>Airline</th>\n",
       "      <th>From_To</th>\n",
       "    </tr>\n",
       "  </thead>\n",
       "  <tbody>\n",
       "    <tr>\n",
       "      <th>1</th>\n",
       "      <td>10045.0</td>\n",
       "      <td>[23, 47]</td>\n",
       "      <td>KLM(!)</td>\n",
       "      <td>London_paris</td>\n",
       "    </tr>\n",
       "    <tr>\n",
       "      <th>2</th>\n",
       "      <td>10055.0</td>\n",
       "      <td>[]</td>\n",
       "      <td>&lt;Air France&gt; (12)</td>\n",
       "      <td>Madrid_milan</td>\n",
       "    </tr>\n",
       "    <tr>\n",
       "      <th>3</th>\n",
       "      <td>10065.0</td>\n",
       "      <td>[24, 43, 87]</td>\n",
       "      <td>(British Airways. )</td>\n",
       "      <td>London_stockholm</td>\n",
       "    </tr>\n",
       "    <tr>\n",
       "      <th>4</th>\n",
       "      <td>10075.0</td>\n",
       "      <td>[13]</td>\n",
       "      <td>12. Air France</td>\n",
       "      <td>Budapest_paris</td>\n",
       "    </tr>\n",
       "    <tr>\n",
       "      <th>5</th>\n",
       "      <td>10085.0</td>\n",
       "      <td>[67, 32]</td>\n",
       "      <td>\"Swiss Air\"</td>\n",
       "      <td>Brussels_london</td>\n",
       "    </tr>\n",
       "  </tbody>\n",
       "</table>\n",
       "</div>"
      ],
      "text/plain": [
       "   FlightNumber  RecentDelays              Airline           From_To\n",
       "1       10045.0      [23, 47]               KLM(!)      London_paris\n",
       "2       10055.0            []    <Air France> (12)      Madrid_milan\n",
       "3       10065.0  [24, 43, 87]  (British Airways. )  London_stockholm\n",
       "4       10075.0          [13]       12. Air France    Budapest_paris\n",
       "5       10085.0      [67, 32]          \"Swiss Air\"   Brussels_london"
      ]
     },
     "execution_count": 6,
     "metadata": {},
     "output_type": "execute_result"
    }
   ],
   "source": [
    "#Adding From to columns from Temprory files\n",
    "\n",
    "df['From_To']=Temp_df2['From_To']\n",
    "df"
   ]
  },
  {
   "cell_type": "code",
   "execution_count": 7,
   "metadata": {},
   "outputs": [
    {
     "name": "stdout",
     "output_type": "stream",
     "text": [
      "total columns 3\n",
      "\n",
      "----Recent Delay columns list split---:\n",
      "\n",
      "       0     1     2\n",
      "0  23.0  47.0   NaN\n",
      "1   NaN   NaN   NaN\n",
      "2  24.0  43.0  87.0\n",
      "3  13.0   NaN   NaN\n",
      "4  67.0  32.0   NaN\n",
      "\n",
      "----Replaced column names to delays columns----\n",
      ":    Delay1  Delay2  Delay3\n",
      "0    23.0    47.0     NaN\n",
      "1     NaN     NaN     NaN\n",
      "2    24.0    43.0    87.0\n",
      "3    13.0     NaN     NaN\n",
      "4    67.0    32.0     NaN\n"
     ]
    }
   ],
   "source": [
    "'''5. In the RecentDelays column, the values have been entered into the\n",
    "DataFrame as a list. We would like each first value in its own column, each\n",
    "second value in its own column, and so on. If there isn't an Nth value, the value\n",
    "should be NaN.'''\n",
    "#bringing Recent delays column as per requirent \n",
    "df5=pd.DataFrame(df['RecentDelays'].values.tolist())\n",
    "len_col=df5.shape[1]\n",
    "print(\"total columns\",len_col)\n",
    "df5.columns[0]\n",
    "print(\"\\n----Recent Delay columns list split---:\\n\\n\",df5)\n",
    "'''Expand the Series of lists into a DataFrame named delays, rename the columns\n",
    "delay_1, delay_2, etc. and replace the unwanted RecentDelays column in df\n",
    "with delays.'''\n",
    "col_list=[]\n",
    "col_dict={}\n",
    "for i in range(len_col):\n",
    "    Key=df5.columns[i]\n",
    "    #print(key,i)\n",
    "    Value=\"Delay\"+str(i+1)\n",
    "    col_dict[Key]=Value\n",
    "df5.rename(columns=col_dict,inplace=True)\n",
    "print(\"\\n----Replaced column names to delays columns----\\n:\",df5)\n"
   ]
  },
  {
   "cell_type": "code",
   "execution_count": 8,
   "metadata": {},
   "outputs": [
    {
     "name": "stdout",
     "output_type": "stream",
     "text": [
      "\n",
      "----updated datafrom with delays ----\n",
      ":    FlightNumber  RecentDelays              Airline           From_To\n",
      "1       10045.0      [23, 47]               KLM(!)      London_paris\n",
      "2       10055.0            []    <Air France> (12)      Madrid_milan\n",
      "3       10065.0  [24, 43, 87]  (British Airways. )  London_stockholm\n",
      "4       10075.0          [13]       12. Air France    Budapest_paris\n",
      "5       10085.0      [67, 32]          \"Swiss Air\"   Brussels_london\n"
     ]
    }
   ],
   "source": [
    "print(\"\\n----updated datafrom with delays ----\\n:\",df)\n"
   ]
  },
  {
   "cell_type": "code",
   "execution_count": 13,
   "metadata": {},
   "outputs": [
    {
     "name": "stdout",
     "output_type": "stream",
     "text": [
      "----updated datafrom with delays ----\n",
      ":\n",
      "   FlightNumber  RecentDelays              Airline           From_To  Delay1  \\\n",
      "1       10045.0      [23, 47]               KLM(!)      London_paris     NaN   \n",
      "2       10055.0            []    <Air France> (12)      Madrid_milan    24.0   \n",
      "3       10065.0  [24, 43, 87]  (British Airways. )  London_stockholm    13.0   \n",
      "4       10075.0          [13]       12. Air France    Budapest_paris    67.0   \n",
      "5       10085.0      [67, 32]          \"Swiss Air\"   Brussels_london     NaN   \n",
      "\n",
      "   Delay2  Delay3  \n",
      "1     NaN     NaN  \n",
      "2    43.0    87.0  \n",
      "3     NaN     NaN  \n",
      "4    32.0     NaN  \n",
      "5     NaN     NaN  \n"
     ]
    }
   ],
   "source": [
    "df[[\"Delay1\",\"Delay2\",\"Delay3\"]]=df5[[\"Delay1\",\"Delay2\",\"Delay3\"]]\n",
    "print(\"----updated datafrom with delays ----\\n:\")\n",
    "print(df)"
   ]
  },
  {
   "cell_type": "code",
   "execution_count": 14,
   "metadata": {},
   "outputs": [
    {
     "name": "stdout",
     "output_type": "stream",
     "text": [
      "----updated datafrom with delays ----\n",
      ":    FlightNumber              Airline           From_To  Delay1  Delay2  Delay3\n",
      "1       10045.0               KLM(!)      London_paris     NaN     NaN     NaN\n",
      "2       10055.0    <Air France> (12)      Madrid_milan    24.0    43.0    87.0\n",
      "3       10065.0  (British Airways. )  London_stockholm    13.0     NaN     NaN\n",
      "4       10075.0       12. Air France    Budapest_paris    67.0    32.0     NaN\n",
      "5       10085.0          \"Swiss Air\"   Brussels_london     NaN     NaN     NaN\n"
     ]
    }
   ],
   "source": [
    "#dropping Recent delay column\n",
    "df.drop('RecentDelays',axis=1,inplace=True)\n",
    "print(\"----updated datafrom with delays ----\\n:\",df)"
   ]
  },
  {
   "cell_type": "code",
   "execution_count": null,
   "metadata": {},
   "outputs": [],
   "source": []
  }
 ],
 "metadata": {
  "kernelspec": {
   "display_name": "Python 3",
   "language": "python",
   "name": "python3"
  },
  "language_info": {
   "codemirror_mode": {
    "name": "ipython",
    "version": 3
   },
   "file_extension": ".py",
   "mimetype": "text/x-python",
   "name": "python",
   "nbconvert_exporter": "python",
   "pygments_lexer": "ipython3",
   "version": "3.7.3"
  }
 },
 "nbformat": 4,
 "nbformat_minor": 2
}
